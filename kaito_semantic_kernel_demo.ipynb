{
 "cells": [
  {
   "cell_type": "markdown",
   "metadata": {},
   "source": [
    "# Semantic Kernel with Kaito ⚡\n",
    "\n",
    "This notebook is a simple demonstration of how to use the [Semantic Kernel](https://learn.microsoft.com/semantic-kernel/overview/?WT.mc_id=AZ-MVP-5003203) with [Kaito](https://github.com/Azure/kaito). There is currently no official Kaito connector available for the Semantic Kernel, so we have developed our own. You can find the source code for the connector in the `kaito` directory in this repository.\n",
    "\n",
    "## Install requirements\n",
    "We only need to install the Semantic Kernel SDK from pypi.org"
   ]
  },
  {
   "cell_type": "code",
   "execution_count": null,
   "metadata": {},
   "outputs": [],
   "source": [
    "%pip install semantic-kernel"
   ]
  },
  {
   "cell_type": "markdown",
   "metadata": {},
   "source": [
    "## Initialize the Kernel"
   ]
  },
  {
   "cell_type": "code",
   "execution_count": 2,
   "metadata": {},
   "outputs": [],
   "source": [
    "from semantic_kernel import Kernel\n",
    "from kaito.services.kaito_text_completion import KaitoTextCompletion\n",
    "\n",
    "ai_model_id=\"kaito:falcon-7b-instruct\"\n",
    "url=\"http://4.207.32.145/chat\"\n",
    "\n",
    "kernel = Kernel()\n",
    "\n",
    "kernel.add_service(\n",
    "    KaitoTextCompletion(\n",
    "        ai_model_id=ai_model_id,\n",
    "        url='http://4.207.32.145/chat'\n",
    "    )\n",
    ")"
   ]
  },
  {
   "cell_type": "markdown",
   "metadata": {},
   "source": [
    "## Add Plugins\n",
    "The following script will add all plugins from the `plugins_directory` to the kernel:"
   ]
  },
  {
   "cell_type": "code",
   "execution_count": 3,
   "metadata": {},
   "outputs": [],
   "source": [
    "plugins_directory = \"Plugins\"\n",
    "kubernetesPlugin = kernel.add_plugin(parent_directory=plugins_directory, plugin_name=\"KubernetesPlugin\")"
   ]
  },
  {
   "cell_type": "markdown",
   "metadata": {},
   "source": [
    "## Run the KubectlPrompt Plugin "
   ]
  },
  {
   "cell_type": "code",
   "execution_count": 8,
   "metadata": {},
   "outputs": [
    {
     "name": "stdout",
     "output_type": "stream",
     "text": [
      "kubectl namespace list\n",
      "\n",
      "```sh\n",
      "# list all namespaces\n",
      "kubectl namespace show\n",
      "\n",
      "```\n",
      "\n",
      "# list all namespaces that are not available\n",
      "kubectl namespace remove -n kube-system | kubectl namespace add -n kube-system kube-system\n",
      "\n",
      "```\n",
      "\n",
      "# list all namespaces\n",
      "```\n",
      "```\n",
      "\n",
      "In the provided command, the namespace is specified as `kube-system` which is not a built-in namespace in Kubernetes. To list the namespaces that are available to you, use a command like:\n",
      "\n",
      "```sh\n",
      "kubectl get ns\n",
      "```\n",
      "\n",
      "This will list the namespaces that are available to you on your system.\n",
      "\n",
      "To list the namespaces that are available to you, use a command like:\n",
      "\n",
      "```\n",
      "kubectl list namespaces\n",
      "```\n",
      "\n",
      "This will list all namespaces and their labels available in your Kubernetes cluster.\n",
      "\n",
      "To remove a namespace, you can use the `kubectl delete` command. To create a new namespace, you can use the `kubectl create namespace` command.\n"
     ]
    }
   ],
   "source": [
    "result = await kernel.invoke(kubernetesPlugin[\"KubectlPrompt\"], input=\"list all namespaces\", os=\"Windows\")\n",
    "print(result)"
   ]
  },
  {
   "cell_type": "markdown",
   "metadata": {},
   "source": [
    "## Run the KubeMatch Plugin "
   ]
  },
  {
   "cell_type": "code",
   "execution_count": 4,
   "metadata": {},
   "outputs": [
    {
     "name": "stdout",
     "output_type": "stream",
     "text": [
      "\n",
      "We recommend using Kubernetes for this project, due to its ability to handle high traffic and high availability requirements, while also ensuring scalability and robust deployment. Kubernetes meets the security requirements specific to the project and allows the team to maintain their existing microservices architecture. Additionally, Kubernetes offers flexibility and vendor lock-in, making it a reliable and scalable choice for this project.\n"
     ]
    }
   ],
   "source": [
    "goodFit=\"\"\"\n",
    "This project involves developing a high-traffic e-commerce platform that expects dynamic scaling and high availability to handle seasonal peaks in user traffic. \n",
    "The architecture is based on microservices, each responsible for different aspects such as user authentication, product catalog, and payment processing. \n",
    "The team is experienced in containerized environments and requires a solution that allows for efficient deployment, scaling, and management of services, with robust orchestration capabilities.\n",
    "\"\"\"\n",
    "\n",
    "result = await kernel.invoke(kubernetesPlugin[\"KubeMatch\"], input=goodFit)\n",
    "print(result)"
   ]
  },
  {
   "cell_type": "code",
   "execution_count": 5,
   "metadata": {},
   "outputs": [
    {
     "name": "stdout",
     "output_type": "stream",
     "text": [
      "Yes, based on the above details, Kubernetes may not be the best solution for this project. This project's requirements and constraints do not fit well with Kubernetes' strengths and limitations. Kubernetes requires a more complex and structured approach, which may not be necessary for this project. Instead, it would be more efficient and appropriate to use a lightweight container orchestration platform like Docker to automate the office inventory management and ensure the stability of the system. This would minimize the learning curve for the development team and reduce the overall cost and effort associated with Kubernetes.\n"
     ]
    }
   ],
   "source": [
    "badFit=\"\"\"\n",
    "This project is a small-scale internal tool for automating office inventory management, expected to have a stable and predictable load with minimal scalability requirements. \n",
    "The application is built with a simple, monolithic architecture and will be deployed on a few servers. \n",
    "The team lacks experience with containerization and Kubernetes, and the simplicity of the project does not justify the overhead and complexity of implementing a Kubernetes environment.\n",
    "\"\"\"\n",
    "\n",
    "result = await kernel.invoke(kubernetesPlugin[\"KubeMatch\"], input=badFit)\n",
    "print(result)"
   ]
  }
 ],
 "metadata": {
  "kernelspec": {
   "display_name": "Python 3",
   "language": "python",
   "name": "python3"
  },
  "language_info": {
   "codemirror_mode": {
    "name": "ipython",
    "version": 3
   },
   "file_extension": ".py",
   "mimetype": "text/x-python",
   "name": "python",
   "nbconvert_exporter": "python",
   "pygments_lexer": "ipython3",
   "version": "3.12.2"
  }
 },
 "nbformat": 4,
 "nbformat_minor": 2
}
